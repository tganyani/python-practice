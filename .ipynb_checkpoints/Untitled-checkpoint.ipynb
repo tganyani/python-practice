{
 "cells": [
  {
   "cell_type": "code",
   "execution_count": 69,
   "metadata": {},
   "outputs": [],
   "source": [
    "import typing as tp\n",
    "import numpy as np \n",
    "T = tp.TypeVar(\"T\")\n",
    "import random"
   ]
  },
  {
   "cell_type": "code",
   "execution_count": 70,
   "metadata": {},
   "outputs": [],
   "source": [
    "def group(values: tp.List[T], n: int) -> tp.List[tp.List[T]]:\n",
    "    \"\"\"\n",
    "    Сгруппировать значения values в список, состоящий из списков по n элементов\n",
    "    >>> group([1,2,3,4], 2)\n",
    "    [[1, 2], [3, 4]]\n",
    "    >>> group([1,2,3,4,5,6,7,8,9], 3)\n",
    "    [[1, 2, 3], [4, 5, 6], [7, 8, 9]]\n",
    "    \"\"\"\n",
    "    s = []\n",
    "    for i in range(0,len(values) // n):\n",
    "        s.append(values[i*n:(i+1)*n])\n",
    "    return s\n"
   ]
  },
  {
   "cell_type": "code",
   "execution_count": 46,
   "metadata": {},
   "outputs": [
    {
     "data": {
      "text/plain": [
       "[[1, 2, 3], [4, 5, 6], [7, 8, 9]]"
      ]
     },
     "execution_count": 46,
     "metadata": {},
     "output_type": "execute_result"
    }
   ],
   "source": [
    "group([1,2,3,4,5,6,7,8,9], 3)"
   ]
  },
  {
   "cell_type": "code",
   "execution_count": 2,
   "metadata": {},
   "outputs": [],
   "source": [
    "def get_row(grid, pos) :\n",
    "    \"\"\"Возвращает все значения для номера строки, указанной в pos\n",
    "    >>> get_row([['1', '2', '.'], ['4', '5', '6'], ['7', '8', '9']], (0, 0))\n",
    "    ['1', '2', '.']\n",
    "    >>> get_row([['1', '2', '3'], ['4', '.', '6'], ['7', '8', '9']], (1, 0))\n",
    "    ['4', '.', '6']\n",
    "    >>> get_row([['1', '2', '3'], ['4', '5', '6'], ['.', '8', '9']], (2, 0))\n",
    "    ['.', '8', '9']\n",
    "    \"\"\"\n",
    "    temp_grid = np.array(grid)\n",
    "    return temp_grid[pos[0],:].tolist()"
   ]
  },
  {
   "cell_type": "code",
   "execution_count": 47,
   "metadata": {},
   "outputs": [
    {
     "data": {
      "text/plain": [
       "['4', '.', '6']"
      ]
     },
     "execution_count": 47,
     "metadata": {},
     "output_type": "execute_result"
    }
   ],
   "source": [
    "get_row([['1', '2', '3'], ['4', '.', '6'], ['7', '8', '9']], (1, 0))"
   ]
  },
  {
   "cell_type": "code",
   "execution_count": 3,
   "metadata": {},
   "outputs": [],
   "source": [
    "def get_col(grid, pos) :\n",
    "    \"\"\"Возвращает все значения для номера столбца, указанного в pos\n",
    "    >>> get_col([['1', '2', '.'], ['4', '5', '6'], ['7', '8', '9']], (0, 0))\n",
    "    ['1', '4', '7']\n",
    "    >>> get_col([['1', '2', '3'], ['4', '.', '6'], ['7', '8', '9']], (0, 1))\n",
    "    ['2', '.', '8']\n",
    "    >>> get_col([['1', '2', '3'], ['4', '5', '6'], ['.', '8', '9']], (0, 2))\n",
    "    ['3', '6', '9']\n",
    "    \"\"\"\n",
    "    temp_grid = np.array(grid)\n",
    "    return temp_grid[0:,pos[1]].tolist()\n",
    "\n"
   ]
  },
  {
   "cell_type": "code",
   "execution_count": 48,
   "metadata": {},
   "outputs": [
    {
     "data": {
      "text/plain": [
       "['3', '6', '9']"
      ]
     },
     "execution_count": 48,
     "metadata": {},
     "output_type": "execute_result"
    }
   ],
   "source": [
    "get_col([['1', '2', '3'], ['4', '5', '6'], ['.', '8', '9']], (0, 2))"
   ]
  },
  {
   "cell_type": "code",
   "execution_count": 4,
   "metadata": {},
   "outputs": [],
   "source": [
    "def get_block(grid, pos) :\n",
    "    \"\"\"Возвращает все значения из квадрата, в который попадает позиция pos\n",
    "    >>> grid = read_sudoku('puzzle1.txt')\n",
    "    >>> get_block(grid, (0, 1))\n",
    "    ['5', '3', '.', '6', '.', '.', '.', '9', '8']\n",
    "    >>> get_block(grid, (4, 7))\n",
    "    ['.', '.', '3', '.', '.', '1', '.', '.', '6']\n",
    "    >>> get_block(grid, (8, 8))\n",
    "    ['2', '8', '.', '.', '.', '5', '.', '7', '9']\n",
    "    \"\"\"\n",
    "    i = pos[0] // 3\n",
    "    j = pos[1] // 3\n",
    "    temp_grid = np.array(grid)\n",
    "    return temp_grid[3*i:3*(i+1),3*j:3*(j+1)].reshape(1,9)[0].tolist()\n"
   ]
  },
  {
   "cell_type": "code",
   "execution_count": 49,
   "metadata": {},
   "outputs": [],
   "source": [
    "grid = [\n",
    "            [\"5\", \"3\", \".\", \".\", \"7\", \".\", \".\", \".\", \".\"],\n",
    "            [\"6\", \".\", \".\", \"1\", \"9\", \"5\", \".\", \".\", \".\"],\n",
    "            [\".\", \"9\", \"8\", \".\", \".\", \".\", \".\", \"6\", \".\"],\n",
    "            [\"8\", \".\", \".\", \".\", \"6\", \".\", \".\", \".\", \"3\"],\n",
    "            [\"4\", \".\", \".\", \"8\", \".\", \"3\", \".\", \".\", \"1\"],\n",
    "            [\"7\", \".\", \".\", \".\", \"2\", \".\", \".\", \".\", \"6\"],\n",
    "            [\".\", \"6\", \".\", \".\", \".\", \".\", \"2\", \"8\", \".\"],\n",
    "            [\".\", \".\", \".\", \"4\", \"1\", \"9\", \".\", \".\", \"5\"],\n",
    "            [\".\", \".\", \".\", \".\", \"8\", \".\", \".\", \"7\", \"9\"],\n",
    "        ]"
   ]
  },
  {
   "cell_type": "code",
   "execution_count": 51,
   "metadata": {},
   "outputs": [
    {
     "data": {
      "text/plain": [
       "['2', '8', '.', '.', '.', '5', '.', '7', '9']"
      ]
     },
     "execution_count": 51,
     "metadata": {},
     "output_type": "execute_result"
    }
   ],
   "source": [
    " get_block(grid, (8, 8))"
   ]
  },
  {
   "cell_type": "code",
   "execution_count": 55,
   "metadata": {},
   "outputs": [],
   "source": [
    "def find_empty_positions(grid: tp.List[tp.List[str]]) -> tp.Optional[tp.Tuple[int, int]]:\n",
    "    \"\"\"Найти первую свободную позицию в пазле\n",
    "    >>> find_empty_positions([['1', '2', '.'], ['4', '5', '6'], ['7', '8', '9']])\n",
    "    (0, 2)\n",
    "    >>> find_empty_positions([['1', '2', '3'], ['4', '.', '6'], ['7', '8', '9']])\n",
    "    (1, 1)\n",
    "    >>> find_empty_positions([['1', '2', '3'], ['4', '5', '6'], ['.', '8', '9']])\n",
    "    (2, 0)\n",
    "    \"\"\"\n",
    "    for i in range(3):\n",
    "        for j in range(3):\n",
    "            if grid[i][j] == '.':\n",
    "                return (i,j)"
   ]
  },
  {
   "cell_type": "code",
   "execution_count": 56,
   "metadata": {},
   "outputs": [
    {
     "data": {
      "text/plain": [
       "(2, 0)"
      ]
     },
     "execution_count": 56,
     "metadata": {},
     "output_type": "execute_result"
    }
   ],
   "source": [
    "find_empty_positions([['1', '2', '3'], ['4', '5', '6'], ['.', '8', '9']])"
   ]
  },
  {
   "cell_type": "code",
   "execution_count": 57,
   "metadata": {},
   "outputs": [],
   "source": [
    "def find_possible_values(grid, pos) :\n",
    "    \"\"\"Вернуть множество возможных значения для указанной позиции\n",
    "    >>> grid = read_sudoku('puzzle1.txt')\n",
    "    >>> values = find_possible_values(grid, (0,2))\n",
    "    >>> values == {'1', '2', '4'}\n",
    "    True\n",
    "    >>> values = find_possible_values(grid, (4,7))\n",
    "    >>> values == {'2', '5', '9'}\n",
    "    True\n",
    "    \"\"\"\n",
    "    row = get_row(grid,pos)\n",
    "    col = get_col(grid,pos)\n",
    "    block = get_block(grid,pos)\n",
    "    a = set()\n",
    "    b = [\"1\",\"2\",\"3\",\"4\",\"5\",\"6\",\"7\",\"8\",\"9\"]\n",
    "    c = {\"1\",\"2\",\"3\",\"4\",\"5\",\"6\",\"7\",\"8\",\"9\"}\n",
    "    for i in range(9):\n",
    "        for j in range(9):\n",
    "            if b[i] == row[j]:\n",
    "                a.add(row[j])\n",
    "            if b[i] == col[j]:\n",
    "                a.add(col[j])\n",
    "            if b[i] == block[j]:\n",
    "                a.add(block[j])\n",
    "    return c.difference(a)"
   ]
  },
  {
   "cell_type": "code",
   "execution_count": 58,
   "metadata": {},
   "outputs": [
    {
     "data": {
      "text/plain": [
       "{'2', '5', '9'}"
      ]
     },
     "execution_count": 58,
     "metadata": {},
     "output_type": "execute_result"
    }
   ],
   "source": [
    "find_possible_values(grid, (4,7))"
   ]
  },
  {
   "cell_type": "code",
   "execution_count": 59,
   "metadata": {},
   "outputs": [],
   "source": [
    "def find_empty_positions(grid):\n",
    "    \"\"\"Найти первую свободную позицию в пазле\n",
    "    >>> find_empty_positions([['1', '2', '.'], ['4', '5', '6'], ['7', '8', '9']])\n",
    "    (0, 2)\n",
    "    >>> find_empty_positions([['1', '2', '3'], ['4', '.', '6'], ['7', '8', '9']])\n",
    "    (1, 1)\n",
    "    >>> find_empty_positions([['1', '2', '3'], ['4', '5', '6'], ['.', '8', '9']])\n",
    "    (2, 0)\n",
    "    \"\"\"\n",
    "    for i in range(9):\n",
    "        for j in range(9):\n",
    "            if grid[i][j] == '.':\n",
    "                return (i,j)"
   ]
  },
  {
   "cell_type": "code",
   "execution_count": 60,
   "metadata": {},
   "outputs": [
    {
     "data": {
      "text/plain": [
       "(0, 2)"
      ]
     },
     "execution_count": 60,
     "metadata": {},
     "output_type": "execute_result"
    }
   ],
   "source": [
    "find_empty_positions([['1', '2', '.'], ['4', '5', '6'], ['7', '8', '9']])"
   ]
  },
  {
   "cell_type": "code",
   "execution_count": 9,
   "metadata": {},
   "outputs": [],
   "source": [
    "#Function to check if a digit can be placed in the given block\n",
    "def possible(row,col,digit):\n",
    "    global grid\n",
    "    for i in range(0,9):\n",
    "        if grid[row][i] == digit:\n",
    "            return False\n",
    "    for i in range(0,9):\n",
    "        if grid[i][col] == digit:\n",
    "            return False\n",
    "    square_row = (row//3)*3\n",
    "    square_col = (col//3)*3\n",
    "    for i in range(0,3):\n",
    "        for j in range(0,3):\n",
    "            if grid[square_row+i][square_col+j] == digit:\n",
    "                return False    \n",
    "    return True"
   ]
  },
  {
   "cell_type": "code",
   "execution_count": 45,
   "metadata": {},
   "outputs": [],
   "source": [
    "def solve(grid):\n",
    "    for row in range(9):\n",
    "        for col in range(9):\n",
    "            if grid[row][col] == '.':\n",
    "                for digit in range(9):\n",
    "                    b = [\"1\",\"2\",\"3\",\"4\",\"5\",\"6\",\"7\",\"8\",\"9\"]\n",
    "                    if possible(row,col,b[digit]):\n",
    "                        grid[row][col] = b[digit]\n",
    "                        solve(grid)\n",
    "                        grid[row][col] = '.'  #Backtrack step\n",
    "                return \n",
    "            \n",
    "\n",
    "    \n",
    "    for i in range(9):\n",
    "        print(grid[i])\n",
    "         "
   ]
  },
  {
   "cell_type": "code",
   "execution_count": 61,
   "metadata": {},
   "outputs": [
    {
     "name": "stdout",
     "output_type": "stream",
     "text": [
      "['5', '3', '4', '6', '7', '8', '9', '1', '2']\n",
      "['6', '7', '2', '1', '9', '5', '3', '4', '8']\n",
      "['1', '9', '8', '3', '4', '2', '5', '6', '7']\n",
      "['8', '5', '9', '7', '6', '1', '4', '2', '3']\n",
      "['4', '2', '6', '8', '5', '3', '7', '9', '1']\n",
      "['7', '1', '3', '9', '2', '4', '8', '5', '6']\n",
      "['9', '6', '1', '5', '3', '7', '2', '8', '4']\n",
      "['2', '8', '7', '4', '1', '9', '6', '3', '5']\n",
      "['3', '4', '5', '2', '8', '6', '1', '7', '9']\n"
     ]
    }
   ],
   "source": [
    "solve(grid)"
   ]
  },
  {
   "cell_type": "code",
   "execution_count": null,
   "metadata": {},
   "outputs": [],
   "source": [
    "def check_solution(solution: tp.List[tp.List[str]]) -> bool:\n",
    "    \"\"\" Если решение solution верно, то вернуть True, в противном случае False \"\"\"\n",
    "    # TODO: Add doctests with bad puzzles\n",
    "    for i in range(9):\n",
    "        for j in range(9):\n",
    "            \n",
    "            if find_possible_values(solution,(i,j)):\n",
    "                return False\n",
    "    return True"
   ]
  },
  {
   "cell_type": "code",
   "execution_count": 63,
   "metadata": {},
   "outputs": [],
   "source": [
    "good_solution = [\n",
    "            [\"5\", \"3\", \"4\", \"6\", \"7\", \"8\", \"9\", \"1\", \"2\"],\n",
    "            [\"6\", \"7\", \"2\", \"1\", \"9\", \"5\", \"3\", \"4\", \"8\"],\n",
    "            [\"1\", \"9\", \"8\", \"3\", \"4\", \"2\", \"5\", \"6\", \"7\"],\n",
    "            [\"8\", \"5\", \"9\", \"7\", \"6\", \"1\", \"4\", \"2\", \"3\"],\n",
    "            [\"4\", \"2\", \"6\", \"8\", \"5\", \"3\", \"7\", \"9\", \"1\"],\n",
    "            [\"7\", \"1\", \"3\", \"9\", \"2\", \"4\", \"8\", \"5\", \"6\"],\n",
    "            [\"9\", \"6\", \"1\", \"5\", \"3\", \"7\", \"2\", \"8\", \"4\"],\n",
    "            [\"2\", \"8\", \"7\", \"4\", \"1\", \"9\", \"6\", \"3\", \"5\"],\n",
    "            [\"3\", \"4\", \"5\", \"2\", \"8\", \"6\", \"1\", \"7\", \"9\"],\n",
    "        ]"
   ]
  },
  {
   "cell_type": "code",
   "execution_count": 64,
   "metadata": {},
   "outputs": [],
   "source": [
    "not_solved = [\n",
    "            [\"5\", \"3\", \"4\", \"6\", \"7\", \"8\", \"9\", \"1\", \"2\"],\n",
    "            [\"6\", \"7\", \"2\", \"1\", \"9\", \"5\", \"3\", \"4\", \"8\"],\n",
    "            [\"1\", \"9\", \"8\", \"3\", \"4\", \"2\", \"5\", \"6\", \"7\"],\n",
    "            [\"8\", \"5\", \"9\", \"7\", \"6\", \"1\", \"4\", \"2\", \"3\"],\n",
    "            [\"4\", \"2\", \"6\", \"8\", \"5\", \"3\", \"7\", \"9\", \"1\"],\n",
    "            [\"7\", \"1\", \"3\", \"9\", \"2\", \"4\", \"8\", \"5\", \"6\"],\n",
    "            [\"9\", \"6\", \"1\", \"5\", \"3\", \"7\", \"2\", \"8\", \"4\"],\n",
    "            [\"2\", \"8\", \"7\", \"4\", \"1\", \"9\", \"6\", \"3\", \"5\"],\n",
    "            [\"3\", \"4\", \"5\", \"2\", \"8\", \"6\", \"1\", \"7\", \".\"],\n",
    "        ]"
   ]
  },
  {
   "cell_type": "code",
   "execution_count": 65,
   "metadata": {},
   "outputs": [],
   "source": [
    " bad_solution = [\n",
    "            [\"6\", \"6\", \"1\", \"1\", \"1\", \"5\", \"8\", \"3\", \"7\"],\n",
    "            [\"3\", \"5\", \"7\", \"8\", \"2\", \"6\", \"1\", \"4\", \"9\"],\n",
    "            [\"1\", \"4\", \"8\", \"9\", \"3\", \"7\", \"5\", \"2\", \"6\"],\n",
    "            [\"6\", \"3\", \"9\", \"5\", \"1\", \"2\", \"4\", \"7\", \"8\"],\n",
    "            [\"5\", \"8\", \"1\", \"7\", \"6\", \"4\", \"3\", \"9\", \"2\"],\n",
    "            [\"4\", \"7\", \"2\", \"3\", \"9\", \"8\", \"6\", \"1\", \"5\"],\n",
    "            [\"9\", \"6\", \"4\", \"2\", \"8\", \"3\", \"7\", \"5\", \"1\"],\n",
    "            [\"8\", \"1\", \"5\", \"4\", \"7\", \"9\", \"2\", \"6\", \"3\"],\n",
    "            [\"7\", \"2\", \"3\", \"6\", \"5\", \"1\", \"9\", \"8\", \"4\"],\n",
    "        ]"
   ]
  },
  {
   "cell_type": "code",
   "execution_count": 66,
   "metadata": {},
   "outputs": [
    {
     "data": {
      "text/plain": [
       "True"
      ]
     },
     "execution_count": 66,
     "metadata": {},
     "output_type": "execute_result"
    }
   ],
   "source": [
    "check_solution(good_solution)"
   ]
  },
  {
   "cell_type": "code",
   "execution_count": 67,
   "metadata": {},
   "outputs": [
    {
     "data": {
      "text/plain": [
       "False"
      ]
     },
     "execution_count": 67,
     "metadata": {},
     "output_type": "execute_result"
    }
   ],
   "source": [
    "check_solution(not_solved )"
   ]
  },
  {
   "cell_type": "code",
   "execution_count": 68,
   "metadata": {},
   "outputs": [
    {
     "data": {
      "text/plain": [
       "False"
      ]
     },
     "execution_count": 68,
     "metadata": {},
     "output_type": "execute_result"
    }
   ],
   "source": [
    "check_solution(bad_solution)"
   ]
  },
  {
   "cell_type": "code",
   "execution_count": 119,
   "metadata": {},
   "outputs": [],
   "source": [
    "def generate_sudoku(N: int) -> tp.List[tp.List[str]]:\n",
    "    \"\"\"Генерация судоку заполненного на N элементов\n",
    "    >>> grid = generate_sudoku(40)\n",
    "    >>> sum(1 for row in grid for e in row if e == '.')\n",
    "    41\n",
    "    >>> solution = solve(grid)\n",
    "    >>> check_solution(solution)\n",
    "    True\n",
    "    >>> grid = generate_sudoku(1000)\n",
    "    >>> sum(1 for row in grid for e in row if e == '.')\n",
    "    0\n",
    "    >>> solution = solve(grid)\n",
    "    >>> check_solution(solution)\n",
    "    True\n",
    "    >>> grid = generate_sudoku(0)\n",
    "    >>> sum(1 for row in grid for e in row if e == '.')\n",
    "    81\n",
    "    >>> solution = solve(grid)\n",
    "    >>> check_solution(solution)\n",
    "    True\n",
    "    \"\"\"\n",
    "    x = random.choices(range(1,10), k=N)\n",
    "    arr = np.zeros(81)\n",
    "    for i in range(N):\n",
    "        arr[i] = int(x[i])\n",
    "    \n",
    "    random.shuffle(arr)\n",
    "    \n",
    "    return arr.reshape(9,9)\n"
   ]
  },
  {
   "cell_type": "code",
   "execution_count": 120,
   "metadata": {},
   "outputs": [
    {
     "data": {
      "text/plain": [
       "array([[0., 0., 0., 2., 2., 1., 0., 9., 0.],\n",
       "       [3., 0., 2., 4., 6., 8., 1., 6., 2.],\n",
       "       [0., 0., 0., 0., 0., 0., 0., 0., 9.],\n",
       "       [2., 0., 9., 0., 1., 0., 0., 0., 4.],\n",
       "       [6., 7., 6., 5., 9., 3., 0., 1., 0.],\n",
       "       [0., 0., 0., 4., 0., 4., 5., 5., 0.],\n",
       "       [0., 4., 0., 6., 0., 5., 3., 1., 0.],\n",
       "       [1., 0., 0., 0., 0., 3., 1., 0., 6.],\n",
       "       [4., 5., 0., 0., 0., 0., 0., 3., 6.]])"
      ]
     },
     "execution_count": 120,
     "metadata": {},
     "output_type": "execute_result"
    }
   ],
   "source": [
    "generate_sudoku(41)"
   ]
  },
  {
   "cell_type": "code",
   "execution_count": 121,
   "metadata": {},
   "outputs": [
    {
     "data": {
      "text/plain": [
       "array([[1., 6., 7., 5., 0., 8., 6., 0., 7.],\n",
       "       [4., 0., 0., 0., 0., 0., 0., 7., 9.],\n",
       "       [8., 0., 8., 9., 0., 0., 1., 0., 5.],\n",
       "       [0., 0., 9., 0., 3., 0., 0., 7., 2.],\n",
       "       [6., 0., 0., 0., 5., 8., 0., 6., 7.],\n",
       "       [2., 0., 2., 1., 7., 0., 0., 2., 0.],\n",
       "       [6., 5., 0., 4., 9., 2., 8., 0., 3.],\n",
       "       [0., 2., 3., 0., 8., 3., 4., 0., 2.],\n",
       "       [7., 6., 9., 0., 4., 4., 3., 4., 7.]])"
      ]
     },
     "execution_count": 121,
     "metadata": {},
     "output_type": "execute_result"
    }
   ],
   "source": [
    "generate_sudoku(50)"
   ]
  },
  {
   "cell_type": "code",
   "execution_count": 122,
   "metadata": {},
   "outputs": [
    {
     "data": {
      "text/plain": [
       "array([[7., 6., 6., 0., 4., 1., 0., 6., 4.],\n",
       "       [9., 0., 0., 0., 0., 8., 2., 2., 8.],\n",
       "       [0., 0., 1., 0., 0., 6., 8., 9., 0.],\n",
       "       [0., 0., 5., 4., 2., 0., 5., 1., 4.],\n",
       "       [1., 9., 0., 0., 7., 0., 0., 1., 9.],\n",
       "       [7., 6., 0., 7., 8., 6., 0., 2., 1.],\n",
       "       [0., 0., 6., 0., 0., 0., 1., 0., 6.],\n",
       "       [0., 0., 6., 0., 3., 3., 9., 8., 0.],\n",
       "       [0., 0., 2., 0., 6., 4., 8., 6., 0.]])"
      ]
     },
     "execution_count": 122,
     "metadata": {},
     "output_type": "execute_result"
    }
   ],
   "source": [
    "generate_sudoku(47)"
   ]
  },
  {
   "cell_type": "code",
   "execution_count": null,
   "metadata": {},
   "outputs": [],
   "source": []
  }
 ],
 "metadata": {
  "kernelspec": {
   "display_name": "Python 3",
   "language": "python",
   "name": "python3"
  },
  "language_info": {
   "codemirror_mode": {
    "name": "ipython",
    "version": 3
   },
   "file_extension": ".py",
   "mimetype": "text/x-python",
   "name": "python",
   "nbconvert_exporter": "python",
   "pygments_lexer": "ipython3",
   "version": "3.7.3"
  }
 },
 "nbformat": 4,
 "nbformat_minor": 2
}
